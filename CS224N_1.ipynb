{
 "cells": [
  {
   "cell_type": "markdown",
   "metadata": {},
   "source": [
    "# CS224N笔记（一）：自然语言处理（NLP）简介"
   ]
  },
  {
   "cell_type": "markdown",
   "metadata": {},
   "source": [
    "# WordNet（分类词典）的缺点:"
   ]
  },
  {
   "cell_type": "raw",
   "metadata": {},
   "source": [
    "不能准确识别同义词之间的细微差别。\n",
    "对词语的理解不够精确（单词的词义不能及时更新，WordNet资源也不完整）。\n",
    "主观性太强（只有固定的离散同义词集）。\n",
    "耗费大量的人力资源进行标注，来构建 。\n",
    "难以准确计算字词之间的相似性。"
   ]
  },
  {
   "cell_type": "raw",
   "metadata": {},
   "source": [
    "One-hot vectors:"
   ]
  },
  {
   "cell_type": "code",
   "execution_count": 2,
   "metadata": {},
   "outputs": [
    {
     "data": {
      "text/html": [
       "<img src='img/1.png'>\n"
      ],
      "text/plain": [
       "<IPython.core.display.HTML object>"
      ]
     },
     "metadata": {},
     "output_type": "display_data"
    }
   ],
   "source": [
    "%%html\n",
    "<img src='img/1.png'>"
   ]
  },
  {
   "cell_type": "raw",
   "metadata": {},
   "source": [
    "列如：\n",
    "[猫，狗，鸡，鸭，汽车旅馆，鸟，骆驼，酒店]，对这个数组进行编码之后；\n",
    "Motel（汽车旅馆）对应的编码应是：\n",
    "Motel=[0,0,0,0,1,0,0,0];\n",
    "同理，Hotel(酒店)对应的编码应是：\n",
    "Hotel=[0,0,0,0,0,0,0,1];\n",
    "在上面汽车旅馆和酒店的意思是相似，但是对Motel=[0,0,0,0,1,0,0,0]与Hotel=[0,0,0,0,0,0,0,1]内积为0，也就是完全不相关；所以这种方式并不能表示出这种关系。"
   ]
  },
  {
   "cell_type": "code",
   "execution_count": 3,
   "metadata": {},
   "outputs": [
    {
     "data": {
      "text/html": [
       "<img src='img/2.png'>\n"
      ],
      "text/plain": [
       "<IPython.core.display.HTML object>"
      ]
     },
     "metadata": {},
     "output_type": "display_data"
    }
   ],
   "source": [
    "%%html\n",
    "<img src='img/2.png'>"
   ]
  },
  {
   "cell_type": "raw",
   "metadata": {},
   "source": [
    "由于ONE-Hot满足不了相关性，（J.R.Firth）提出了Distributional semantics(分布式语义):单词的意思，应该结合它的上下文来确定的;现代统计NLP成功的理念之一。"
   ]
  },
  {
   "cell_type": "raw",
   "metadata": {},
   "source": [
    "e:\n",
    "用‘banking’许多的上下文来构建它的意思："
   ]
  },
  {
   "cell_type": "code",
   "execution_count": 4,
   "metadata": {},
   "outputs": [
    {
     "data": {
      "text/html": [
       "<img src='img/3.png'>\n"
      ],
      "text/plain": [
       "<IPython.core.display.HTML object>"
      ]
     },
     "metadata": {},
     "output_type": "display_data"
    }
   ],
   "source": [
    "%%html\n",
    "<img src='img/3.png'>"
   ]
  },
  {
   "cell_type": "raw",
   "metadata": {},
   "source": [
    "词向量：\n",
    "将选择的每个单词构建了密集的向量，为了更好的预测上下文的意思："
   ]
  },
  {
   "cell_type": "code",
   "execution_count": 5,
   "metadata": {},
   "outputs": [
    {
     "data": {
      "text/html": [
       "<img src='img/4.png'>\n"
      ],
      "text/plain": [
       "<IPython.core.display.HTML object>"
      ]
     },
     "metadata": {},
     "output_type": "display_data"
    }
   ],
   "source": [
    "%%html\n",
    "<img src='img/4.png'>"
   ]
  },
  {
   "cell_type": "raw",
   "metadata": {},
   "source": [
    "‘banking’对应的维度是8；每一个单词都有一个向量维度，所有单词在一起将会有一个向量空间。"
   ]
  },
  {
   "cell_type": "code",
   "execution_count": 6,
   "metadata": {},
   "outputs": [
    {
     "data": {
      "text/html": [
       "<img src='img/5.png'>\n"
      ],
      "text/plain": [
       "<IPython.core.display.HTML object>"
      ]
     },
     "metadata": {},
     "output_type": "display_data"
    }
   ],
   "source": [
    "%%html\n",
    "<img src='img/5.png'>"
   ]
  },
  {
   "cell_type": "raw",
   "metadata": {},
   "source": [
    "向量中的每个单词具有不同的基础；\n",
    "\n",
    "Word2vec:是一个学习单词向量的框架。"
   ]
  },
  {
   "cell_type": "code",
   "execution_count": 9,
   "metadata": {},
   "outputs": [
    {
     "data": {
      "text/html": [
       "<img src='img/6.png'>\n"
      ],
      "text/plain": [
       "<IPython.core.display.HTML object>"
      ]
     },
     "metadata": {},
     "output_type": "display_data"
    }
   ],
   "source": [
    "%%html\n",
    "<img src='img/6.png'>"
   ]
  },
  {
   "cell_type": "raw",
   "metadata": {},
   "source": [
    "想法;\n",
    "\n",
    "我们有大量的文本。\n",
    "固定词汇表中的每一个单词都由一个向量表示\n",
    "遍历文本中每一个位置,其中有一个中心词C与外部词O。\n",
    "用单词的向量的相似性来计算O与C的相同（或想反）的概率。\n",
    "不断的调整单词向量，使概率值最大化。"
   ]
  },
  {
   "cell_type": "raw",
   "metadata": {},
   "source": [
    "计算过程："
   ]
  },
  {
   "cell_type": "code",
   "execution_count": 10,
   "metadata": {},
   "outputs": [
    {
     "data": {
      "text/html": [
       "<img src='img/7.png'>\n"
      ],
      "text/plain": [
       "<IPython.core.display.HTML object>"
      ]
     },
     "metadata": {},
     "output_type": "display_data"
    }
   ],
   "source": [
    "%%html\n",
    "<img src='img/7.png'>"
   ]
  },
  {
   "cell_type": "raw",
   "metadata": {},
   "source": [
    " 目标函数（损失函数或成本函数）："
   ]
  },
  {
   "cell_type": "code",
   "execution_count": 11,
   "metadata": {},
   "outputs": [
    {
     "data": {
      "text/html": [
       "<img src='img/8.png'>\n"
      ],
      "text/plain": [
       "<IPython.core.display.HTML object>"
      ]
     },
     "metadata": {},
     "output_type": "display_data"
    }
   ],
   "source": [
    "%%html\n",
    "<img src='img/8.png'>"
   ]
  },
  {
   "cell_type": "raw",
   "metadata": {},
   "source": [
    "对于给定的数据集T，固定了窗口的大小（每个面几个字），给定中心单词Wj;\n",
    "模型的概率:"
   ]
  },
  {
   "cell_type": "code",
   "execution_count": 13,
   "metadata": {},
   "outputs": [
    {
     "data": {
      "text/html": [
       "<img src='img/9.png'>\n"
      ],
      "text/plain": [
       "<IPython.core.display.HTML object>"
      ]
     },
     "metadata": {},
     "output_type": "display_data"
    }
   ],
   "source": [
    "%%html\n",
    "<img src='img/9.png'>"
   ]
  },
  {
   "cell_type": "raw",
   "metadata": {},
   "source": [
    "最小化目标函数==最大化概率值；"
   ]
  },
  {
   "cell_type": "code",
   "execution_count": 14,
   "metadata": {},
   "outputs": [
    {
     "data": {
      "text/html": [
       "<img src='img/10.png'>\n"
      ],
      "text/plain": [
       "<IPython.core.display.HTML object>"
      ]
     },
     "metadata": {},
     "output_type": "display_data"
    }
   ],
   "source": [
    "%%html\n",
    "<img src='img/10.png'>"
   ]
  },
  {
   "cell_type": "raw",
   "metadata": {},
   "source": [
    "这个模型中，唯一的一个参数就是我们给定的一个变量;"
   ]
  },
  {
   "cell_type": "code",
   "execution_count": 16,
   "metadata": {},
   "outputs": [
    {
     "data": {
      "text/html": [
       "<img src='img/11.png'>\n"
      ],
      "text/plain": [
       "<IPython.core.display.HTML object>"
      ]
     },
     "metadata": {},
     "output_type": "display_data"
    }
   ],
   "source": [
    "%%html\n",
    "<img src='img/11.png'>"
   ]
  },
  {
   "cell_type": "raw",
   "metadata": {},
   "source": [
    "最小化损失函数；\n",
    "将每个单词使用俩个向量：当W是中心词是，当W是上下文词时；\n",
    "然后是中心词C与上下文词O；\n",
    "e:\n",
    "定义一个某个单词的上下文模型：\n",
    "P（context|Wt）=.....\n",
    "定义损失函数：\n",
    "J=1-P（Wt+j|Wt）(Wt+j与Wt为上下文)\n",
    "如果预测结果正确，目标函数为0；\n",
    "在词料库中的不同位置来训练，调整词向量，最小化目标函数：\n",
    "比如：我喜欢打篮球，也喜欢打羽毛球。\n",
    "当出现“打篮球”时，预测出现“打羽毛球”的可能性；概率模型为：\n",
    "P（打羽毛球|打篮球）（也就是在“打篮球”的条件下“打羽毛球”的概率）\n",
    "目标函数：\n",
    "J=1-p(W|打篮球)\n",
    "如果w=“打羽毛球”，概率为1，目标函数为0。"
   ]
  },
  {
   "cell_type": "code",
   "execution_count": 18,
   "metadata": {},
   "outputs": [
    {
     "data": {
      "text/html": [
       "<img src='img/12.png'>\n"
      ],
      "text/plain": [
       "<IPython.core.display.HTML object>"
      ]
     },
     "metadata": {},
     "output_type": "display_data"
    }
   ],
   "source": [
    "%%html\n",
    "<img src='img/12.png'>"
   ]
  },
  {
   "cell_type": "raw",
   "metadata": {},
   "source": [
    " 分子是：通过点积来计算O与C的相似性；\n",
    "分母是:对整个词汇表进行标准化后给出的概率分布；"
   ]
  },
  {
   "cell_type": "raw",
   "metadata": {},
   "source": [
    "这是一个SOFEMAX函数R^N——R^n的例子："
   ]
  },
  {
   "cell_type": "code",
   "execution_count": 20,
   "metadata": {},
   "outputs": [
    {
     "data": {
      "text/html": [
       "<img src='img/13.png'>\n"
      ],
      "text/plain": [
       "<IPython.core.display.HTML object>"
      ]
     },
     "metadata": {},
     "output_type": "display_data"
    }
   ],
   "source": [
    "%%html\n",
    "<img src='img/13.png'>"
   ]
  },
  {
   "cell_type": "raw",
   "metadata": {},
   "source": [
    "在SOFTMAX函数中：\n",
    "“max”是将一些大的概率表示为最大的概率Xi;\n",
    "“soft”是将一些小的概率表示为更小的概率Xj;\n",
    "经常用于深度学习；"
   ]
  },
  {
   "cell_type": "markdown",
   "metadata": {},
   "source": [
    "# 通过优化训练参数训练模型："
   ]
  },
  {
   "cell_type": "raw",
   "metadata": {},
   "source": [
    "为了更好的训练模型，调整参数使目标函数最小化；\n",
    "也就是用梯度下降来找到最优点；"
   ]
  },
  {
   "cell_type": "code",
   "execution_count": 21,
   "metadata": {},
   "outputs": [
    {
     "data": {
      "text/html": [
       "<img src='img/14.png'>\n"
      ],
      "text/plain": [
       "<IPython.core.display.HTML object>"
      ]
     },
     "metadata": {},
     "output_type": "display_data"
    }
   ],
   "source": [
    "%%html\n",
    "<img src='img/14.png'>"
   ]
  },
  {
   "cell_type": "raw",
   "metadata": {},
   "source": [
    "计算所有向量维度：\n",
    "在D维向量与V维向量中，有许多单词："
   ]
  },
  {
   "cell_type": "code",
   "execution_count": 22,
   "metadata": {},
   "outputs": [
    {
     "data": {
      "text/html": [
       "<img src='img/15.png'>\n"
      ],
      "text/plain": [
       "<IPython.core.display.HTML object>"
      ]
     },
     "metadata": {},
     "output_type": "display_data"
    }
   ],
   "source": [
    "%%html\n",
    "<img src='img/15.png'>"
   ]
  },
  {
   "cell_type": "raw",
   "metadata": {},
   "source": [
    "每个单词都有俩个向量；\n",
    "沿着这个梯度进行优化；"
   ]
  },
  {
   "cell_type": "raw",
   "metadata": {},
   "source": [
    "第一次翻译视频，如果有什么不正确的地方，请大家提出来!!!"
   ]
  }
 ],
 "metadata": {
  "kernelspec": {
   "display_name": "Python 3",
   "language": "python",
   "name": "python3"
  },
  "language_info": {
   "codemirror_mode": {
    "name": "ipython",
    "version": 3
   },
   "file_extension": ".py",
   "mimetype": "text/x-python",
   "name": "python",
   "nbconvert_exporter": "python",
   "pygments_lexer": "ipython3",
   "version": "3.6.8"
  }
 },
 "nbformat": 4,
 "nbformat_minor": 2
}
